{
 "cells": [
  {
   "cell_type": "markdown",
   "metadata": {},
   "source": [
    "# DeMoN: Depth and Motion Network\n",
    "\n",
    "[![License](https://img.shields.io/badge/license-GPLv3-blue.svg)](LICENSE)\n",
    "\n",
    "DeMoN is \"A computer algorithm for reconstructing a scene from two projections\"<sup>1</sup>.\n",
    "The network estimates the depth and relative camera motion for pairs of images; it addresses the important two view case in structure from motion.\n",
    "\n",
    "![Teaser](teaser.png)\n",
    "\n",
    "If you use this code for research please cite:"
   ]
  },
  {
   "cell_type": "code",
   "execution_count": null,
   "metadata": {},
   "outputs": [],
   "source": [
    "@InProceedings{UZUMIDB17,\n",
    "  author       = \"B. Ummenhofer and H. Zhou and J. Uhrig and N. Mayer and E. Ilg and A. Dosovitskiy and T. Brox\",\n",
    "  title        = \"DeMoN: Depth and Motion Network for Learning Monocular Stereo\",\n",
    "  booktitle    = \"IEEE Conference on Computer Vision and Pattern Recognition (CVPR)\",\n",
    "  month        = \" \",\n",
    "  year         = \"2017\",\n",
    "  url          = \"http://lmb.informatik.uni-freiburg.de//Publications/2017/UZUMIDB17\"\n",
    "}"
   ]
  },
  {
   "cell_type": "markdown",
   "metadata": {},
   "source": [
    "See the [project website](https://lmb.informatik.uni-freiburg.de/people/ummenhof/depthmotionnet) for the paper and other material.\n",
    "\n",
    "<sup>1 This is the title of H. C. Longuet-Higgins paper from 1981, which perfectly describes what our method does. DeMoN shows that complex geometric relations can be learnt by a ConvNet.</sup>\n",
    "\n",
    "## Requirements\n",
    "\n",
    "Building and using requires the following libraries and programs"
   ]
  },
  {
   "cell_type": "code",
   "execution_count": null,
   "metadata": {},
   "outputs": [],
   "source": [
    "tensorflow 1.4.0\n",
    "cmake 3.7.1\n",
    "python 3.5\n",
    "cuda 8.0.61 (required for gpu support)\n",
    "VTK 7.1 with python3 interface (required for visualizing point clouds)"
   ]
  },
  {
   "cell_type": "markdown",
   "metadata": {},
   "source": [
    "The versions match the configuration we have tested on an ubuntu 16.04 system.\n",
    "DeMoN can work with other versions of the aforementioned dependencies, e.g. tensorflow 1.3, but this is not well tested.\n",
    "\n",
    "The binary package from [vtk.org](http://www.vtk.org) does not come with a python3 interface.\n",
    "To enable python3 support VTK needs to be built from source.\n",
    "Alternatively, there are also VTK packages with python3 support available in Anaconda via the conda package manager.\n",
    "\n",
    "The network also depends on our [lmbspecialops](https://github.com/lmb-freiburg/lmbspecialops) library which is included as a submodule.\n",
    "\n",
    "\n",
    "\n",
    "## Build instructions\n",
    "\n",
    "The following describes how to install tensorflow and demon into a new virtualenv and run the inference example.\n",
    "We will use ```pew``` (```pip3 install pew```) to manage a new virtualenv named ```demon_venv``` in the following:"
   ]
  },
  {
   "cell_type": "code",
   "execution_count": null,
   "metadata": {},
   "outputs": [],
   "source": [
    "%%bash\n",
    "# create virtualenv\n",
    "pew new demon_venv"
   ]
  },
  {
   "cell_type": "markdown",
   "metadata": {},
   "source": [
    "The following commands all run inside the virtualenv:"
   ]
  },
  {
   "cell_type": "code",
   "execution_count": null,
   "metadata": {},
   "outputs": [],
   "source": [
    "%%bash\n",
    "# install python module dependencies\n",
    "pip3 install tensorflow-gpu # or 'tensorflow' without gpu support\n",
    "pip3 install pillow # for reading images\n",
    "pip3 install matplotlib # required for visualizing depth maps\n",
    "pip3 install Cython # required for visualizing point clouds"
   ]
  },
  {
   "cell_type": "code",
   "execution_count": null,
   "metadata": {},
   "outputs": [],
   "source": [
    "%%bash\n",
    "# clone repo with submodules\n",
    "git clone --recursive https://github.com/lmb-freiburg/demon.git"
   ]
  },
  {
   "cell_type": "markdown",
   "metadata": {},
   "source": [
    "## ROSLab version, start here!"
   ]
  },
  {
   "cell_type": "code",
   "execution_count": null,
   "metadata": {},
   "outputs": [],
   "source": [
    "export PYTHONPATH=~/demon/lmbspecialops/python:/usr/local/lib/python3.5/site-packages # add to python path"
   ]
  },
  {
   "cell_type": "code",
   "execution_count": null,
   "metadata": {},
   "outputs": [],
   "source": [
    "# download weights\n",
    "cd ~/demon/weights\n",
    "# wget https://lmb.informatik.uni-freiburg.de/people/ummenhof/depthmotionnet/demon_original_weights.tgz\n",
    "tar -xvf demon_original_weights.tgz"
   ]
  },
  {
   "cell_type": "code",
   "execution_count": null,
   "metadata": {},
   "outputs": [],
   "source": [
    "# run example\n",
    "cd ~/demon/examples\n",
    "python3 example.py # opens a window with the depth map (and the point cloud if vtk is available)"
   ]
  },
  {
   "cell_type": "markdown",
   "metadata": {},
   "source": [
    "## Data reader op & evaluation\n",
    "\n",
    "The data reader op and the evaluation code have additional dependencies.\n",
    "The code for the data reader is in the ```multivih5datareaderop``` directory. \n",
    "See the corresponding [readme](multivih5datareaderop/README.md) for more details.\n",
    "\n",
    "For the evaluation see the example [```examples/evaluation.py```](examples/evaluation.py).\n",
    "The evaluation code requires the following additional python3 packages, which can be installed with ```pip```:"
   ]
  },
  {
   "cell_type": "code",
   "execution_count": null,
   "metadata": {},
   "outputs": [],
   "source": [
    "h5py\n",
    "minieigen\n",
    "pandas\n",
    "scipy\n",
    "scikit-image\n",
    "xarray"
   ]
  },
  {
   "cell_type": "markdown",
   "metadata": {},
   "source": [
    "Note that the evaluation code also depends on the data reader op.\n",
    "\n",
    "\n",
    "\n",
    "## License\n",
    "\n",
    "DeMoN is under the [GNU General Public License v3.0](LICENSE.txt)"
   ]
  }
 ],
 "metadata": {
  "kernelspec": {
   "display_name": "Bash",
   "language": "bash",
   "name": "bash"
  },
  "language_info": {
   "codemirror_mode": "shell",
   "file_extension": ".sh",
   "mimetype": "text/x-sh",
   "name": "bash"
  }
 },
 "nbformat": 4,
 "nbformat_minor": 2
}
